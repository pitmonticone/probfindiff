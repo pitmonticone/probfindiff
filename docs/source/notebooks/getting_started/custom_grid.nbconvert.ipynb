{
 "cells": [
  {
   "cell_type": "markdown",
   "id": "b91a8d2d",
   "metadata": {},
   "source": [
    "# Finite differences on custom grids\n",
    "\n",
    "\n",
    "This tutorial explains how to compute finite difference approximations on custom grids."
   ]
  },
  {
   "cell_type": "code",
   "execution_count": 1,
   "id": "3b6bbe46",
   "metadata": {
    "execution": {
     "iopub.execute_input": "2022-02-04T12:41:32.298604Z",
     "iopub.status.busy": "2022-02-04T12:41:32.297647Z",
     "iopub.status.idle": "2022-02-04T12:41:33.562913Z",
     "shell.execute_reply": "2022-02-04T12:41:33.562450Z"
    }
   },
   "outputs": [],
   "source": [
    "import jax.numpy as jnp\n",
    "\n",
    "from probfindiff import differentiate, backward, from_grid"
   ]
  },
  {
   "cell_type": "markdown",
   "id": "3fc544c9",
   "metadata": {},
   "source": [
    "Recall how the usual output of finite difference schemes, for instance those resulting from `backward`, are a scheme and a grid. Subsequently, when applying the scheme, `probfindiff` assumes that the function has been evalauted at the grid."
   ]
  },
  {
   "cell_type": "code",
   "execution_count": 2,
   "id": "4cfb8a49",
   "metadata": {
    "execution": {
     "iopub.execute_input": "2022-02-04T12:41:33.565788Z",
     "iopub.status.busy": "2022-02-04T12:41:33.565404Z",
     "iopub.status.idle": "2022-02-04T12:41:34.186933Z",
     "shell.execute_reply": "2022-02-04T12:41:34.186615Z"
    }
   },
   "outputs": [
    {
     "name": "stderr",
     "output_type": "stream",
     "text": [
      "WARNING:absl:No GPU/TPU found, falling back to CPU. (Set TF_CPP_MIN_LOG_LEVEL=0 and rerun for more info.)\n"
     ]
    },
    {
     "name": "stdout",
     "output_type": "stream",
     "text": [
      "FiniteDifferenceScheme(weights=DeviceArray([ 15.01597  , -20.031385 ,   5.0154157], dtype=float32), covs_marginal=DeviceArray(-5.543232e-05, dtype=float32), order_derivative=DeviceArray(1, dtype=int32, weak_type=True))\n",
      "[ 0.  -0.1 -0.2]\n"
     ]
    }
   ],
   "source": [
    "scheme, xs = backward(dx=0.1)\n",
    "print(scheme)\n",
    "print(xs)"
   ]
  },
  {
   "cell_type": "markdown",
   "id": "909a5a1d",
   "metadata": {},
   "source": [
    "## Custom schemes\n",
    "\n",
    "Sometimes, we have a grid and want to compute a corresponding finite difference scheme.\n",
    "For example, when dealing with irregular geometries (circles, curves), or when specific function evaluations are readily available, and more evaluations are costly.\n",
    "\n",
    "Luckily, there are ways to compute finite difference schemes from a grid.\n"
   ]
  },
  {
   "cell_type": "code",
   "execution_count": 3,
   "id": "58333d29",
   "metadata": {
    "execution": {
     "iopub.execute_input": "2022-02-04T12:41:34.325409Z",
     "iopub.status.busy": "2022-02-04T12:41:34.245158Z",
     "iopub.status.idle": "2022-02-04T12:41:34.556064Z",
     "shell.execute_reply": "2022-02-04T12:41:34.555704Z"
    }
   },
   "outputs": [
    {
     "name": "stdout",
     "output_type": "stream",
     "text": [
      "FiniteDifferenceScheme(weights=DeviceArray([-9.9635269e+01,  9.9632912e+01,  2.3571502e-03], dtype=float32), covs_marginal=DeviceArray(-0.00106692, dtype=float32), order_derivative=DeviceArray(1, dtype=int32, weak_type=True))\n"
     ]
    }
   ],
   "source": [
    "xs = jnp.array([-0.01, 0., 2.])\n",
    "scheme = from_grid(xs=xs)\n",
    "print(scheme)"
   ]
  },
  {
   "cell_type": "markdown",
   "id": "04474fbd",
   "metadata": {},
   "source": [
    "## Where is x?\n",
    "\n",
    "For the `from_grid()`, as well as its cousins `forward()`, `backward()`, etc., it is always assumed that the function's derivative shall be computed at the origin `x=0`.\n",
    "For instance, the grid `(-0.1, 0., 2.)` computes something like an unevenly-spaced central difference quotient, because the resulting differentiation scheme will approximate `f'(0)`."
   ]
  },
  {
   "cell_type": "code",
   "execution_count": 4,
   "id": "2f6e5e3e",
   "metadata": {
    "execution": {
     "iopub.execute_input": "2022-02-04T12:41:34.560176Z",
     "iopub.status.busy": "2022-02-04T12:41:34.559795Z",
     "iopub.status.idle": "2022-02-04T12:41:34.598066Z",
     "shell.execute_reply": "2022-02-04T12:41:34.598354Z"
    }
   },
   "outputs": [
    {
     "data": {
      "text/plain": [
       "(DeviceArray(0.00164359, dtype=float32),\n",
       " DeviceArray(-0., dtype=float32, weak_type=True))"
      ]
     },
     "execution_count": 4,
     "metadata": {},
     "output_type": "execute_result"
    }
   ],
   "source": [
    "dfx, _ = differentiate(jnp.cos(xs), scheme=scheme)\n",
    "dfx, -jnp.sin(0.)"
   ]
  },
  {
   "cell_type": "markdown",
   "id": "271f2629",
   "metadata": {},
   "source": [
    "If you require the finite difference quotient at `x=x_0` instead, you can shift the evaluation points accordingly."
   ]
  },
  {
   "cell_type": "code",
   "execution_count": 5,
   "id": "770faf92",
   "metadata": {
    "execution": {
     "iopub.execute_input": "2022-02-04T12:41:34.602822Z",
     "iopub.status.busy": "2022-02-04T12:41:34.602414Z",
     "iopub.status.idle": "2022-02-04T12:41:34.613336Z",
     "shell.execute_reply": "2022-02-04T12:41:34.613012Z"
    }
   },
   "outputs": [
    {
     "data": {
      "text/plain": [
       "(DeviceArray(-0.6793945, dtype=float32),\n",
       " DeviceArray(-0.6816388, dtype=float32, weak_type=True))"
      ]
     },
     "execution_count": 5,
     "metadata": {},
     "output_type": "execute_result"
    }
   ],
   "source": [
    "dfx, _ = differentiate(jnp.cos(xs + 0.75), scheme=scheme)\n",
    "dfx, -jnp.sin(0.75)"
   ]
  },
  {
   "cell_type": "code",
   "execution_count": null,
   "id": "866a7525",
   "metadata": {},
   "outputs": [],
   "source": []
  },
  {
   "cell_type": "code",
   "execution_count": null,
   "id": "91da5283",
   "metadata": {},
   "outputs": [],
   "source": []
  }
 ],
 "metadata": {
  "kernelspec": {
   "display_name": "Python 3 (ipykernel)",
   "language": "python",
   "name": "python3"
  },
  "language_info": {
   "codemirror_mode": {
    "name": "ipython",
    "version": 3
   },
   "file_extension": ".py",
   "mimetype": "text/x-python",
   "name": "python",
   "nbconvert_exporter": "python",
   "pygments_lexer": "ipython3",
   "version": "3.8.10"
  }
 },
 "nbformat": 4,
 "nbformat_minor": 5
}
