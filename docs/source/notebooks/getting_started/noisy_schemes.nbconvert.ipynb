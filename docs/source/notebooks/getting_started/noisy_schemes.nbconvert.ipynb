{
 "cells": [
  {
   "cell_type": "markdown",
   "id": "cf34b01b",
   "metadata": {},
   "source": [
    "# Observation noise\n",
    "\n",
    "\n",
    "What do you do if your function evaluations are noisy?\n",
    "Plain finite difference schemes struggle in this setup."
   ]
  },
  {
   "cell_type": "code",
   "execution_count": 1,
   "id": "3deebee6",
   "metadata": {
    "execution": {
     "iopub.execute_input": "2022-02-04T12:41:39.213846Z",
     "iopub.status.busy": "2022-02-04T12:41:39.211878Z",
     "iopub.status.idle": "2022-02-04T12:41:39.866838Z",
     "shell.execute_reply": "2022-02-04T12:41:39.866428Z"
    }
   },
   "outputs": [
    {
     "name": "stderr",
     "output_type": "stream",
     "text": [
      "WARNING:absl:No GPU/TPU found, falling back to CPU. (Set TF_CPP_MIN_LOG_LEVEL=0 and rerun for more info.)\n"
     ]
    }
   ],
   "source": [
    "import jax.numpy as jnp\n",
    "from probfindiff import central, differentiate\n",
    "from jax import random\n",
    "\n",
    "key = random.PRNGKey(seed=1)"
   ]
  },
  {
   "cell_type": "markdown",
   "id": "e0297eda",
   "metadata": {},
   "source": [
    "Noisy observations (even with very little noise) tend to mess up finite difference approximations. "
   ]
  },
  {
   "cell_type": "code",
   "execution_count": 2,
   "id": "19082cd7",
   "metadata": {
    "execution": {
     "iopub.execute_input": "2022-02-04T12:41:39.981792Z",
     "iopub.status.busy": "2022-02-04T12:41:39.927354Z",
     "iopub.status.idle": "2022-02-04T12:41:40.493542Z",
     "shell.execute_reply": "2022-02-04T12:41:40.493182Z"
    }
   },
   "outputs": [
    {
     "data": {
      "text/plain": [
       "(DeviceArray(1.5257977, dtype=float32),\n",
       " DeviceArray(1., dtype=float32, weak_type=True))"
      ]
     },
     "execution_count": 2,
     "metadata": {},
     "output_type": "execute_result"
    }
   ],
   "source": [
    "scheme, xs = central(dx=0.01)\n",
    "noise = 1e-2 * random.normal(key, shape=xs.shape)\n",
    "\n",
    "df, _ = differentiate(jnp.sin(xs) + noise, scheme=scheme)\n",
    "df, jnp.cos(0.0)"
   ]
  },
  {
   "cell_type": "markdown",
   "id": "ff3909df",
   "metadata": {},
   "source": [
    "Once we know which kind of error we are dealing with (noisy function evaluations), we can tune the FD scheme accordingly."
   ]
  },
  {
   "cell_type": "code",
   "execution_count": 3,
   "id": "f7c0dc73",
   "metadata": {
    "execution": {
     "iopub.execute_input": "2022-02-04T12:41:40.656508Z",
     "iopub.status.busy": "2022-02-04T12:41:40.569313Z",
     "iopub.status.idle": "2022-02-04T12:41:40.877854Z",
     "shell.execute_reply": "2022-02-04T12:41:40.877526Z"
    }
   },
   "outputs": [
    {
     "data": {
      "text/plain": [
       "(DeviceArray(1.0176924, dtype=float32),\n",
       " DeviceArray(1., dtype=float32, weak_type=True))"
      ]
     },
     "execution_count": 3,
     "metadata": {},
     "output_type": "execute_result"
    }
   ],
   "source": [
    "scheme, xs = central(dx=0.01, noise_variance=1e-4)\n",
    "df, _ = differentiate(jnp.sin(xs) + noise, scheme=scheme)\n",
    "df, jnp.cos(0.0)"
   ]
  },
  {
   "cell_type": "markdown",
   "id": "a3f49281",
   "metadata": {},
   "source": [
    "Mathematically, this is due to the fact that PN finite differences do some clever Gaussian process regression, which deals well with noise.\n",
    "The takeaway is: don't overfit your finite difference scheme. Adapt it to incorporate noise."
   ]
  }
 ],
 "metadata": {
  "kernelspec": {
   "display_name": "Python 3 (ipykernel)",
   "language": "python",
   "name": "python3"
  },
  "language_info": {
   "codemirror_mode": {
    "name": "ipython",
    "version": 3
   },
   "file_extension": ".py",
   "mimetype": "text/x-python",
   "name": "python",
   "nbconvert_exporter": "python",
   "pygments_lexer": "ipython3",
   "version": "3.8.10"
  }
 },
 "nbformat": 4,
 "nbformat_minor": 5
}
