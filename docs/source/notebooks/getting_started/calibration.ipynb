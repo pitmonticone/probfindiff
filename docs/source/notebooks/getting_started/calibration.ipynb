{
 "cells": [
  {
   "cell_type": "markdown",
   "id": "3a589a1a",
   "metadata": {},
   "source": [
    "# Calibration\n",
    "\n",
    "Probabilistic numerical finite differences use the formalism of Gaussian process regression to derive the schemes.\n",
    "This brings with it the advantage of uncertainty quantification, but also the burden of choosing a useful prior model.\n",
    "\n",
    "In this notebook, we will discuss the basics of model selection and uncertainty quantification.\n"
   ]
  },
  {
   "cell_type": "code",
   "execution_count": 1,
   "id": "74124e88",
   "metadata": {},
   "outputs": [],
   "source": [
    "import functools\n",
    "\n",
    "import jax\n",
    "import jax.numpy as jnp\n",
    "import jax.scipy.stats\n",
    "from jax.config import config\n",
    "\n",
    "import probfindiff\n",
    "from probfindiff import stencil\n",
    "from probfindiff.utils import autodiff, kernel, kernel_zoo\n",
    "\n",
    "config.update(\"jax_enable_x64\", True)"
   ]
  },
  {
   "cell_type": "markdown",
   "id": "7f9911aa",
   "metadata": {},
   "source": [
    "First, a baseline. Since the function has a large output-scale, the error and uncertainty quantification are off."
   ]
  },
  {
   "cell_type": "code",
   "execution_count": 2,
   "id": "24d737cb",
   "metadata": {},
   "outputs": [
    {
     "name": "stderr",
     "output_type": "stream",
     "text": [
      "WARNING:absl:No GPU/TPU found, falling back to CPU. (Set TF_CPP_MIN_LOG_LEVEL=0 and rerun for more info.)\n"
     ]
    },
    {
     "name": "stdout",
     "output_type": "stream",
     "text": [
      "Error:\n",
      "\t 4.719146676279706e-05\n",
      "Standard deviation:\n",
      "\t 9.506929163641619e-06\n"
     ]
    }
   ],
   "source": [
    "dx = 0.01\n",
    "order_method = 5\n",
    "scheme, xs = probfindiff.central(\n",
    "    dx=dx, kernel=kernel_zoo.exponentiated_quadratic, order_method=order_method\n",
    ")\n",
    "\n",
    "f = lambda x: 100 * jnp.sin(x)\n",
    "fx = f(xs)\n",
    "dfx, variance = probfindiff.differentiate(fx, scheme=scheme)\n",
    "\n",
    "dfx_true = jax.grad(f)(0.0)\n",
    "error, std = jnp.abs(dfx - dfx_true), jnp.sqrt(variance)\n",
    "print(\"Error:\\n\\t\", error)\n",
    "print(\"Standard deviation:\\n\\t\", std)"
   ]
  },
  {
   "cell_type": "markdown",
   "id": "77736414",
   "metadata": {},
   "source": [
    "We can tune the prior kernel to alleviate this issue.\n",
    "For example, we can compute some maximum-likelihood estimate of input-scale and output-scale.\n",
    "The goal is to find\n",
    "$$\n",
    "\\arg\\max_{a, b} p(f_{a,b}(x_n) = f_n, ~ n=0, ..., N)\n",
    "$$\n",
    "where $f$ is the prior Gaussian process, $f_n$ are the observations of the to-be-differentiated function, and $x_n$ are the finite difference grid points."
   ]
  },
  {
   "cell_type": "code",
   "execution_count": 3,
   "id": "dcb8103c",
   "metadata": {},
   "outputs": [],
   "source": [
    "def kernel_from_scale(*, input_scale, output_scale):\n",
    "    k = functools.partial(\n",
    "        kernel_zoo.exponentiated_quadratic,\n",
    "        input_scale=input_scale,\n",
    "        output_scale=output_scale,\n",
    "    )\n",
    "    return kernel.batch_gram(k)\n",
    "\n",
    "\n",
    "def logpdf_from_kernel(*, kernel, x, fx):\n",
    "    K = kernel(x[:, None], x[None, :])\n",
    "    return jax.scipy.stats.multivariate_normal.logpdf(\n",
    "        fx, mean=jnp.zeros_like(fx), cov=K\n",
    "    )\n",
    "\n",
    "\n",
    "@jax.jit\n",
    "def logpdf_from_scale(*, input_scale, output_scale, x, fx):\n",
    "    k, *_ = kernel_from_scale(input_scale=input_scale, output_scale=output_scale)\n",
    "    return logpdf_from_kernel(kernel=k, x=x, fx=fx)"
   ]
  },
  {
   "cell_type": "markdown",
   "id": "e86ffb7a",
   "metadata": {},
   "source": [
    "The problem is very small, so let us be extremely lazy and compute some grid-search over a logarithmic space to find the solution of the above optimisation problem."
   ]
  },
  {
   "cell_type": "code",
   "execution_count": 14,
   "id": "799427fb",
   "metadata": {},
   "outputs": [
    {
     "name": "stdout",
     "output_type": "stream",
     "text": [
      "Optimal parameters:\n",
      "\tinput_scale=1e-05\n",
      "\toutput_scale=0.0001\n"
     ]
    }
   ],
   "source": [
    "l_max, i_max, o_max = -jnp.inf, None, None\n",
    "\n",
    "Is = jnp.logspace(-5, 3, num=100, endpoint=True)\n",
    "Os = jnp.logspace(-4, 2, num=100, endpoint=True)\n",
    "\n",
    "res = jnp.asarray(\n",
    "    [\n",
    "        [logpdf_from_scale(input_scale=i, output_scale=o, x=xs, fx=fx) for i in Is]\n",
    "        for o in Os\n",
    "    ]\n",
    ")\n",
    "\n",
    "k, l = jnp.unravel_index(jnp.argmax(res, axis=None), res.shape)\n",
    "k_optimal = functools.partial(\n",
    "    kernel_zoo.exponentiated_quadratic,\n",
    "    input_scale=Is[k],\n",
    "    output_scale=Os[l],\n",
    ")\n",
    "print(f\"Optimal parameters:\\n\\tinput_scale={Is[k]}\\n\\toutput_scale={Os[l]}\")"
   ]
  },
  {
   "cell_type": "code",
   "execution_count": null,
   "id": "1dec8f7f",
   "metadata": {},
   "outputs": [],
   "source": []
  },
  {
   "cell_type": "code",
   "execution_count": 15,
   "id": "1910ba4d",
   "metadata": {},
   "outputs": [
    {
     "name": "stdout",
     "output_type": "stream",
     "text": [
      "Error:\n",
      "\t 0.9957098954750734\n",
      "Standard deviation:\n",
      "\t 3.1465848318198807e-06\n"
     ]
    }
   ],
   "source": [
    "scheme, xs = probfindiff.central(dx=dx, kernel=k_optimal, order_method=order_method)\n",
    "dfx, variance = probfindiff.differentiate(f(xs), scheme=scheme)\n",
    "error, std = jnp.abs(dfx - dfx_true), jnp.sqrt(variance)\n",
    "print(\"Error:\\n\\t\", error)\n",
    "print(\"Standard deviation:\\n\\t\", std)"
   ]
  },
  {
   "cell_type": "code",
   "execution_count": null,
   "id": "af5f747d",
   "metadata": {},
   "outputs": [],
   "source": []
  },
  {
   "cell_type": "code",
   "execution_count": null,
   "id": "aa51f1da",
   "metadata": {},
   "outputs": [],
   "source": []
  }
 ],
 "metadata": {
  "kernelspec": {
   "display_name": "Python 3 (ipykernel)",
   "language": "python",
   "name": "python3"
  },
  "language_info": {
   "codemirror_mode": {
    "name": "ipython",
    "version": 3
   },
   "file_extension": ".py",
   "mimetype": "text/x-python",
   "name": "python",
   "nbconvert_exporter": "python",
   "pygments_lexer": "ipython3",
   "version": "3.8.10"
  }
 },
 "nbformat": 4,
 "nbformat_minor": 5
}
