{
 "cells": [
  {
   "cell_type": "markdown",
   "id": "646a68ed",
   "metadata": {},
   "source": [
    "# Multivariate derivatives\n"
   ]
  },
  {
   "cell_type": "code",
   "execution_count": 1,
   "id": "5c7e295d",
   "metadata": {},
   "outputs": [],
   "source": [
    "import jax\n",
    "import jax.numpy as jnp\n",
    "\n",
    "\n",
    "from pnfindiff import central, differentiate, gradient, differentiate_along_axis"
   ]
  },
  {
   "cell_type": "markdown",
   "id": "f220c3af",
   "metadata": {},
   "source": [
    "Let's define a function $f: R^d \\rightarrow R$."
   ]
  },
  {
   "cell_type": "code",
   "execution_count": 2,
   "id": "b596f66c",
   "metadata": {},
   "outputs": [
    {
     "name": "stderr",
     "output_type": "stream",
     "text": [
      "WARNING:absl:No GPU/TPU found, falling back to CPU. (Set TF_CPP_MIN_LOG_LEVEL=0 and rerun for more info.)\n"
     ]
    }
   ],
   "source": [
    "f = lambda z: jnp.stack([jnp.dot(z, z), jnp.cos(jnp.dot(z, z))])\n",
    "f_batched = jax.vmap(f)\n",
    "d_in, d_out = 4, 2\n",
    "\n",
    "# Some point x in R^d\n",
    "x = jnp.arange(1.0, 1.0 + d_in)\n",
    "assert f(x).shape == (d_out,)\n",
    "\n",
    "# The gradient takes values in R^d\n",
    "df = jax.jacfwd(f)\n",
    "assert df(x).shape == (d_out, d_in)"
   ]
  },
  {
   "cell_type": "code",
   "execution_count": 3,
   "id": "0926290a",
   "metadata": {},
   "outputs": [],
   "source": [
    "n = 3\n",
    "scheme, xs = central(dx=0.01)\n",
    "assert xs.shape == (n,)"
   ]
  },
  {
   "cell_type": "code",
   "execution_count": 6,
   "id": "429d92eb",
   "metadata": {},
   "outputs": [
    {
     "ename": "TypeError",
     "evalue": "gradient() got an unexpected keyword argument 'shape_input'",
     "output_type": "error",
     "traceback": [
      "\u001b[0;31m---------------------------------------------------------------------------\u001b[0m",
      "\u001b[0;31mTypeError\u001b[0m                                 Traceback (most recent call last)",
      "Input \u001b[0;32mIn [6]\u001b[0m, in \u001b[0;36m<module>\u001b[0;34m\u001b[0m\n\u001b[0;32m----> 1\u001b[0m scheme, xs_full, labels \u001b[38;5;241m=\u001b[39m \u001b[43mgradient\u001b[49m\u001b[43m(\u001b[49m\u001b[43mcentral\u001b[49m\u001b[43m(\u001b[49m\u001b[43mdx\u001b[49m\u001b[38;5;241;43m=\u001b[39;49m\u001b[38;5;241;43m0.01\u001b[39;49m\u001b[43m)\u001b[49m\u001b[43m,\u001b[49m\u001b[43m \u001b[49m\u001b[43mshape_input\u001b[49m\u001b[38;5;241;43m=\u001b[39;49m\u001b[43m(\u001b[49m\u001b[43md_in\u001b[49m\u001b[43m,\u001b[49m\u001b[43m)\u001b[49m\u001b[43m,\u001b[49m\u001b[43m \u001b[49m\u001b[43mshape_output\u001b[49m\u001b[38;5;241;43m=\u001b[39;49m\u001b[43m(\u001b[49m\u001b[43md_out\u001b[49m\u001b[43m,\u001b[49m\u001b[43m)\u001b[49m\u001b[43m)\u001b[49m\n\u001b[1;32m      3\u001b[0m \u001b[38;5;66;03m# (\"a\", \"b\", \"c\", \"d\")\u001b[39;00m\n\u001b[1;32m      4\u001b[0m \u001b[38;5;66;03m# a:\u001b[39;00m\n\u001b[1;32m      5\u001b[0m \u001b[38;5;28;01massert\u001b[39;00m labels \u001b[38;5;241m==\u001b[39m (\u001b[38;5;124m\"\u001b[39m\u001b[38;5;124mshape_output_differential\u001b[39m\u001b[38;5;124m\"\u001b[39m, \u001b[38;5;124m\"\u001b[39m\u001b[38;5;124mshape_input_differential\u001b[39m\u001b[38;5;124m\"\u001b[39m, \u001b[38;5;124m\"\u001b[39m\u001b[38;5;124mshape_input_values\u001b[39m\u001b[38;5;124m\"\u001b[39m, \u001b[38;5;124m\"\u001b[39m\u001b[38;5;124mfd_weights\u001b[39m\u001b[38;5;124m\"\u001b[39m)\n",
      "\u001b[0;31mTypeError\u001b[0m: gradient() got an unexpected keyword argument 'shape_input'"
     ]
    }
   ],
   "source": [
    "scheme, xs_full, labels = gradient(\n",
    "    central(dx=0.01), shape_input=(d_in,), shape_output=(d_out,)\n",
    ")\n",
    "\n",
    "assert labels == (\n",
    "    \"shape_output_differential\",\n",
    "    \"shape_input_differential\",\n",
    "    \"shape_input_values\",\n",
    "    \"fd_weights\",\n",
    ")\n",
    "r\"\"\"\n",
    "\n",
    "xs[0, 1, 2, 3]: \n",
    "the 3rd FD weight, \n",
    "the 2nd dimension of _one_ input to the function (likely to be zero),\n",
    "along the first input-dimension axis (i.e. the 1st partial derivative is approximated)\n",
    "and the 0th element of the output. In other words, xs[a, b] is a (c,d) array providing the FD grid for \n",
    "\n",
    "    .. math:: \\frac{\\partial}{\\partial_b}f_a(x)\n",
    "\n",
    "jnp.array(\n",
    "    [\n",
    "        [\n",
    "            [\n",
    "                [\n",
    "                \n",
    "                ]\n",
    "                for k in input_values\n",
    "            ]\n",
    "            for i in input_diff\n",
    "        ]\n",
    "        for o in output_diff\n",
    "    ]\n",
    ")\n",
    "for o in output_diff:\n",
    "    for i in input_diff:\n",
    "        \n",
    "\"\"\"\n",
    "\n",
    "\n",
    "# (output_dim_idx, input_dim_idx, input_value_idx, fd_weight_idx)\n",
    "assert xs_full.shape == (d_out, d_in, d_in, n)\n",
    "\n",
    "# (output_dim_idx, input_dim_idx, fd_weight_idx)\n",
    "assert fxs.shape == (d_out, d_in, n)\n",
    "\n",
    "# (output_dim_idx, input_dim_idx)\n",
    "assert dfxs.shape == (d_out, d_in)"
   ]
  },
  {
   "cell_type": "code",
   "execution_count": null,
   "id": "e9813dbf",
   "metadata": {},
   "outputs": [],
   "source": []
  },
  {
   "cell_type": "code",
   "execution_count": null,
   "id": "9f762090",
   "metadata": {},
   "outputs": [],
   "source": []
  },
  {
   "cell_type": "code",
   "execution_count": null,
   "id": "d9b6551a",
   "metadata": {},
   "outputs": [],
   "source": [
    "# k = 2\n",
    "# scheme, xs = pnfindiff.gradient(*pnfindiff.central(dx=0.1, order_method=k), dim=3)\n",
    "# assert xs.shape == (k+1, d, k+1)\n",
    "\n",
    "# xs_shifted = x[..., None] + xs\n",
    "# assert xs_shifted.shape == (k+1, d, k+1)\n",
    "\n",
    "# dfx, _ = pnfindiff.differentiate(f(xs_shifted), scheme=scheme)\n",
    "\n",
    "# assert dfx.shape == df(x).shape == (d,)\n",
    "# assert jnp.allclose(dfx, df(x), rtol=1e-4, atol=1e-4)"
   ]
  },
  {
   "cell_type": "code",
   "execution_count": 21,
   "id": "a4952460",
   "metadata": {},
   "outputs": [],
   "source": [
    "d_in = 6\n",
    "d_out = 7\n",
    "fd_weights = jnp.ones(3)\n",
    "xs = jnp.stack([jnp.stack([jnp.stack([fd_weights] * d_in) for i in range(d_in)]) for o in range(d_out)])"
   ]
  },
  {
   "cell_type": "code",
   "execution_count": 22,
   "id": "d81dfb7a",
   "metadata": {},
   "outputs": [
    {
     "data": {
      "text/plain": [
       "(7, 6, 6, 3)"
      ]
     },
     "execution_count": 22,
     "metadata": {},
     "output_type": "execute_result"
    }
   ],
   "source": [
    "xs.shape"
   ]
  },
  {
   "cell_type": "code",
   "execution_count": 24,
   "id": "2641e48e",
   "metadata": {},
   "outputs": [
    {
     "data": {
      "text/plain": [
       "DeviceArray([[1., 1., 1.],\n",
       "             [1., 1., 1.],\n",
       "             [1., 1., 1.],\n",
       "             [1., 1., 1.],\n",
       "             [1., 1., 1.],\n",
       "             [1., 1., 1.]], dtype=float32)"
      ]
     },
     "execution_count": 24,
     "metadata": {},
     "output_type": "execute_result"
    }
   ],
   "source": [
    "jnp.stack([fd_weights] * d_in)"
   ]
  },
  {
   "cell_type": "code",
   "execution_count": 50,
   "id": "9925644b",
   "metadata": {},
   "outputs": [
    {
     "data": {
      "text/plain": [
       "DeviceArray([[3, 4, 5],\n",
       "             [0, 0, 0],\n",
       "             [0, 0, 0],\n",
       "             [0, 0, 0],\n",
       "             [0, 0, 0],\n",
       "             [0, 0, 0],\n",
       "             [0, 0, 0]], dtype=int32)"
      ]
     },
     "execution_count": 50,
     "metadata": {},
     "output_type": "execute_result"
    }
   ],
   "source": [
    "fd_weights = jnp.array([3, 4, 5]).reshape((1, -1))\n",
    "\n",
    "jnp.pad(fd_weights, ((0,d_in),(0,0)))"
   ]
  },
  {
   "cell_type": "code",
   "execution_count": 55,
   "id": "bc68d10a",
   "metadata": {},
   "outputs": [],
   "source": [
    "X = jnp.stack([jnp.pad(fd_weights, pad_width=((i, d_in-i-1), (0,0))) for i in range(d_in)])\n"
   ]
  },
  {
   "cell_type": "code",
   "execution_count": null,
   "id": "71e1e5f2",
   "metadata": {},
   "outputs": [],
   "source": []
  }
 ],
 "metadata": {
  "kernelspec": {
   "display_name": "Python 3 (ipykernel)",
   "language": "python",
   "name": "python3"
  },
  "language_info": {
   "codemirror_mode": {
    "name": "ipython",
    "version": 3
   },
   "file_extension": ".py",
   "mimetype": "text/x-python",
   "name": "python",
   "nbconvert_exporter": "python",
   "pygments_lexer": "ipython3",
   "version": "3.8.10"
  }
 },
 "nbformat": 4,
 "nbformat_minor": 5
}
