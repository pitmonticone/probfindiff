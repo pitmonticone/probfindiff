{
 "cells": [
  {
   "cell_type": "markdown",
   "id": "ff8bdc00",
   "metadata": {},
   "source": [
    "# Multivariate derivatives\n",
    "\n",
    "Other notebooks have explained how to compute partial derivatives, but what if we want full gradients? \n"
   ]
  },
  {
   "cell_type": "code",
   "execution_count": 1,
   "id": "050a0285",
   "metadata": {},
   "outputs": [],
   "source": [
    "import jax\n",
    "import jax.numpy as jnp\n",
    "\n",
    "\n",
    "from pnfindiff import central, differentiate, multivariate, from_grid"
   ]
  },
  {
   "cell_type": "markdown",
   "id": "0f8c59b2",
   "metadata": {},
   "source": [
    "Let's define a function $f: R^d \\rightarrow R$. "
   ]
  },
  {
   "cell_type": "code",
   "execution_count": 2,
   "id": "d06e6c2e",
   "metadata": {},
   "outputs": [
    {
     "name": "stderr",
     "output_type": "stream",
     "text": [
      "WARNING:absl:No GPU/TPU found, falling back to CPU. (Set TF_CPP_MIN_LOG_LEVEL=0 and rerun for more info.)\n"
     ]
    }
   ],
   "source": [
    "f = lambda z: jnp.dot(z, z)\n",
    "d = 4\n",
    "\n",
    "x = jnp.arange(1.0, 1.0 + d)\n",
    "df = jax.jacfwd(f)"
   ]
  },
  {
   "cell_type": "markdown",
   "id": "71844603",
   "metadata": {},
   "source": [
    "\n",
    "We have to extend the 1d scheme to a multivariate scheme.\n",
    "A multivariate scheme comes with a new set of coefficients and a new grid, that is adapted to the shape of the function. "
   ]
  },
  {
   "cell_type": "code",
   "execution_count": 3,
   "id": "20ec490c",
   "metadata": {},
   "outputs": [
    {
     "name": "stdout",
     "output_type": "stream",
     "text": [
      "(4, 4, 3)\n"
     ]
    }
   ],
   "source": [
    "scheme_1d, xs_1d = central(dx=0.01)\n",
    "scheme, xs = multivariate(scheme_1d=scheme_1d, xs_1d=xs_1d, shape_input=(d,))\n",
    "print(xs.shape)"
   ]
  },
  {
   "cell_type": "markdown",
   "id": "83f969e1",
   "metadata": {},
   "source": [
    "The shape of `xs` may seem a little odd, but it chosen deliberately.\n",
    "The \"final\" dimension of the grid must correspond to the finite-difference-weight-multiplication.\n",
    "The shapes in the very front must correspond to the input and output shape of the domain of the function.\n",
    "Therefore, the \"evaluation domain\" (which is the axis that will be \"contracted\" to ``shape=()`` by the scalar-valued function) is ``axis=-2``.\n",
    "\n",
    "\n",
    "Let us evaluate the gradient numerically now."
   ]
  },
  {
   "cell_type": "code",
   "execution_count": 4,
   "id": "bfeb5de2",
   "metadata": {},
   "outputs": [
    {
     "data": {
      "text/plain": [
       "(DeviceArray([2.0007117, 4.0015507, 6.002268 , 8.003107 ], dtype=float32),\n",
       " DeviceArray([2., 4., 6., 8.], dtype=float32))"
      ]
     },
     "execution_count": 4,
     "metadata": {},
     "output_type": "execute_result"
    }
   ],
   "source": [
    "f_batched = jax.vmap(jax.vmap(f, in_axes=-1), in_axes=0)\n",
    "fx = f_batched(x[None, :, None] + xs)\n",
    "dfx, _ = differentiate(fx, scheme=scheme)\n",
    "dfx, df(x)"
   ]
  },
  {
   "cell_type": "markdown",
   "id": "a791cfac",
   "metadata": {},
   "source": [
    "The same can be done for _any_ one-dimensional scheme."
   ]
  },
  {
   "cell_type": "code",
   "execution_count": 5,
   "id": "35a44ed8",
   "metadata": {},
   "outputs": [
    {
     "name": "stdout",
     "output_type": "stream",
     "text": [
      "(4, 4, 5) [1.9995394 3.9993134 5.9990873 7.9988513] [2. 4. 6. 8.]\n"
     ]
    }
   ],
   "source": [
    "xs_1d = jnp.array([-0.1, -0.01, 0.0, 0.01, 0.1])\n",
    "scheme_1d = from_grid(xs=xs_1d)\n",
    "scheme, xs = multivariate(scheme_1d=scheme_1d, xs_1d=xs_1d, shape_input=(d,))\n",
    "\n",
    "fx = f_batched(x[None, :, None] + xs)\n",
    "dfx, _ = differentiate(fx, scheme=scheme)\n",
    "print(xs.shape, dfx, df(x))"
   ]
  },
  {
   "cell_type": "markdown",
   "id": "9040da46",
   "metadata": {},
   "source": [
    "The parameter ``shape_input`` already suggests that this mechanism extends to more complex schemes, such as Jacobians of truly multivariate functions. But this is content for a different tutorial."
   ]
  }
 ],
 "metadata": {
  "kernelspec": {
   "display_name": "Python 3 (ipykernel)",
   "language": "python",
   "name": "python3"
  },
  "language_info": {
   "codemirror_mode": {
    "name": "ipython",
    "version": 3
   },
   "file_extension": ".py",
   "mimetype": "text/x-python",
   "name": "python",
   "nbconvert_exporter": "python",
   "pygments_lexer": "ipython3",
   "version": "3.8.10"
  }
 },
 "nbformat": 4,
 "nbformat_minor": 5
}
