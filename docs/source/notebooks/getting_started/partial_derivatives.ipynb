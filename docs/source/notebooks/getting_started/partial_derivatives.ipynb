{
 "cells": [
  {
   "cell_type": "markdown",
   "id": "30c2107c",
   "metadata": {},
   "source": [
    "# Partial derivatives and other axis magic\n",
    "\n",
    "Can `probfindiff` also do partial derivatives? Yes, it can do this and more!\n"
   ]
  },
  {
   "cell_type": "code",
   "execution_count": 1,
   "id": "e9f5549b",
   "metadata": {},
   "outputs": [],
   "source": [
    "from probfindiff import differentiate_along_axis, central\n",
    "import jax.numpy as jnp"
   ]
  },
  {
   "cell_type": "markdown",
   "id": "49cd4f91",
   "metadata": {},
   "source": [
    "## Partial derivatives\n",
    "\n",
    "\n",
    "Consider a function $f=f(x,y)$. To compute its partial derivative $\\partial/\\partial x f$, we can use finite differences.\n",
    "To this end, we build a meshgrid-style evaluation of $f$ at the finite difference nodes (just as if we made a contour plot with matplotlib) and differentiate the resulting ``(n,n)`` array numerically."
   ]
  },
  {
   "cell_type": "code",
   "execution_count": 2,
   "id": "4a7f1bd4",
   "metadata": {},
   "outputs": [
    {
     "name": "stderr",
     "output_type": "stream",
     "text": [
      "WARNING:absl:No GPU/TPU found, falling back to CPU. (Set TF_CPP_MIN_LOG_LEVEL=0 and rerun for more info.)\n"
     ]
    },
    {
     "data": {
      "text/plain": [
       "(DeviceArray([0.9995756], dtype=float32), DeviceArray([[1.]], dtype=float32))"
      ]
     },
     "execution_count": 2,
     "metadata": {},
     "output_type": "execute_result"
    }
   ],
   "source": [
    "scheme, xs = central(dx=0.05)\n",
    "\n",
    "fx = jnp.sin(xs)[:, None] * jnp.cos(jnp.zeros(1))[None, :]\n",
    "dfdx_approx, _ = differentiate_along_axis(fx, axis=0, scheme=scheme)\n",
    "dfdx_approx, jnp.cos(0.0) * jnp.cos(jnp.zeros(1))[None, :]"
   ]
  },
  {
   "cell_type": "markdown",
   "id": "89f4bb52",
   "metadata": {},
   "source": [
    "## Mixed derivatives\n",
    "\n",
    "It is just as easy to compute mixed derivatives. For example, to compute\n",
    "$$\n",
    "\\frac{\\partial^3}{\\partial x \\partial y^2} f(x,y)\n",
    "$$\n",
    "we chain finite difference schemes together."
   ]
  },
  {
   "cell_type": "code",
   "execution_count": 3,
   "id": "fccc916d",
   "metadata": {},
   "outputs": [
    {
     "data": {
      "text/plain": [
       "(DeviceArray(-1.0064235, dtype=float32),\n",
       " DeviceArray(-1., dtype=float32, weak_type=True))"
      ]
     },
     "execution_count": 3,
     "metadata": {},
     "output_type": "execute_result"
    }
   ],
   "source": [
    "scheme_x, xs = central(dx=0.1, order_derivative=1)\n",
    "scheme_y, ys = central(dx=0.05, order_derivative=2)\n",
    "\n",
    "fx = jnp.sin(xs)[:, None] * jnp.cos(ys)[None, :]\n",
    "dfdx_approx, _ = differentiate_along_axis(fx, axis=0, scheme=scheme_x)\n",
    "dfx_approx, _ = differentiate_along_axis(dfdx_approx, axis=0, scheme=scheme_y)\n",
    "dfx_approx, -jnp.cos(0.0) ** 2"
   ]
  },
  {
   "cell_type": "markdown",
   "id": "24cdc44a",
   "metadata": {},
   "source": [
    "If you've read the modelling tutorial, you will notice how this chain of applications implies a specific model.\n",
    "More specifically, the above is a good idea if the function $f$ splits into the product\n",
    "$$\n",
    "f(x,y) = f_1(x) f_2(y).\n",
    "$$\n",
    "If not, there are better approaches. This will be left for a different tutorial.\n",
    "\n",
    "## Batched derivatives\n",
    "\n",
    "Once we have the scheme, we can also use the `differentiate_along_axis()` function to compute batched finite difference evaluations.\n",
    "Since we set up the schemes independently of applying them, we can pick _a_ scheme and apply it to a batch of function evaluations easily.\n"
   ]
  },
  {
   "cell_type": "code",
   "execution_count": 4,
   "id": "25c5f2e0",
   "metadata": {},
   "outputs": [
    {
     "data": {
      "text/plain": [
       "((100,), DeviceArray(0.00021049, dtype=float32))"
      ]
     },
     "execution_count": 4,
     "metadata": {},
     "output_type": "execute_result"
    }
   ],
   "source": [
    "scheme, xs = central(dx=0.01)\n",
    "fx_batch = jnp.sin(xs)[:, None] * jnp.linspace(0.0, 1.0, 100)[None, :]\n",
    "dfx_batch, _ = differentiate_along_axis(fx_batch, axis=0, scheme=scheme)\n",
    "\n",
    "difference = dfx_batch - jnp.cos(0.0) * jnp.linspace(0.0, 1.0, 100)\n",
    "difference.shape, jnp.linalg.norm(difference) / jnp.sqrt(difference.size)"
   ]
  }
 ],
 "metadata": {
  "kernelspec": {
   "display_name": "Python 3 (ipykernel)",
   "language": "python",
   "name": "python3"
  },
  "language_info": {
   "codemirror_mode": {
    "name": "ipython",
    "version": 3
   },
   "file_extension": ".py",
   "mimetype": "text/x-python",
   "name": "python",
   "nbconvert_exporter": "python",
   "pygments_lexer": "ipython3",
   "version": "3.8.10"
  }
 },
 "nbformat": 4,
 "nbformat_minor": 5
}
