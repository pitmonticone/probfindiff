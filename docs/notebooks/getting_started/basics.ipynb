{
 "cells": [
  {
   "cell_type": "markdown",
   "id": "419b1486",
   "metadata": {},
   "source": [
    "# Basic (probabilistic) numerical differentiation\n",
    "\n",
    "This notebook explains the fundamentals of probabilistic numerical differentiation with `pnfindiff`. \n",
    "The \"probabilistic\" aspect is not covered in this notebook."
   ]
  },
  {
   "cell_type": "code",
   "execution_count": 1,
   "id": "94857a46",
   "metadata": {},
   "outputs": [
    {
     "ename": "ModuleNotFoundError",
     "evalue": "No module named 'jax'",
     "output_type": "error",
     "traceback": [
      "\u001b[0;31m---------------------------------------------------------------------------\u001b[0m",
      "\u001b[0;31mModuleNotFoundError\u001b[0m                       Traceback (most recent call last)",
      "\u001b[0;32m/tmp/ipykernel_507901/1204721884.py\u001b[0m in \u001b[0;36m<module>\u001b[0;34m\u001b[0m\n\u001b[0;32m----> 1\u001b[0;31m \u001b[0;32mimport\u001b[0m \u001b[0mjax\u001b[0m\u001b[0;34m.\u001b[0m\u001b[0mnumpy\u001b[0m \u001b[0;32mas\u001b[0m \u001b[0mjnp\u001b[0m\u001b[0;34m\u001b[0m\u001b[0;34m\u001b[0m\u001b[0m\n\u001b[0m\u001b[1;32m      2\u001b[0m \u001b[0;32mimport\u001b[0m \u001b[0mpnfindiff\u001b[0m\u001b[0;34m\u001b[0m\u001b[0;34m\u001b[0m\u001b[0m\n\u001b[1;32m      3\u001b[0m \u001b[0;32mimport\u001b[0m \u001b[0mmatplotlib\u001b[0m\u001b[0;34m.\u001b[0m\u001b[0mpyplot\u001b[0m \u001b[0;32mas\u001b[0m \u001b[0mplt\u001b[0m\u001b[0;34m\u001b[0m\u001b[0;34m\u001b[0m\u001b[0m\n\u001b[1;32m      4\u001b[0m \u001b[0;34m\u001b[0m\u001b[0m\n\u001b[1;32m      5\u001b[0m \u001b[0mplt\u001b[0m\u001b[0;34m.\u001b[0m\u001b[0mrcParams\u001b[0m\u001b[0;34m.\u001b[0m\u001b[0mupdate\u001b[0m\u001b[0;34m(\u001b[0m\u001b[0;34m{\u001b[0m\u001b[0;34m\"figure.dpi\"\u001b[0m\u001b[0;34m:\u001b[0m \u001b[0;36m100\u001b[0m\u001b[0;34m}\u001b[0m\u001b[0;34m)\u001b[0m\u001b[0;34m\u001b[0m\u001b[0;34m\u001b[0m\u001b[0m\n",
      "\u001b[0;31mModuleNotFoundError\u001b[0m: No module named 'jax'"
     ]
    }
   ],
   "source": [
    "import jax.numpy as jnp\n",
    "import pnfindiff\n",
    "import matplotlib.pyplot as plt\n",
    "\n",
    "plt.rcParams.update({\"figure.dpi\": 100})"
   ]
  },
  {
   "cell_type": "markdown",
   "id": "e58d4d60",
   "metadata": {},
   "source": [
    "## First-order derivatives\n",
    "\n",
    "Consider a function $f: \\mathbb{R} \\rightarrow \\mathbb{R}$.\n",
    "We set up a probabilistic numerical finite difference (PN-FD) scheme and use it to compute the derivative of `f`,\n",
    "$$\n",
    "\\frac{d}{dx}f(x)\n",
    "$$\n",
    "as follows.\n",
    "\n"
   ]
  },
  {
   "cell_type": "code",
   "execution_count": 2,
   "id": "483debac",
   "metadata": {},
   "outputs": [
    {
     "ename": "NameError",
     "evalue": "name 'jnp' is not defined",
     "output_type": "error",
     "traceback": [
      "\u001b[0;31m---------------------------------------------------------------------------\u001b[0m",
      "\u001b[0;31mNameError\u001b[0m                                 Traceback (most recent call last)",
      "\u001b[0;32m/tmp/ipykernel_507901/2784032751.py\u001b[0m in \u001b[0;36m<module>\u001b[0;34m\u001b[0m\n\u001b[0;32m----> 1\u001b[0;31m \u001b[0mxs\u001b[0m \u001b[0;34m=\u001b[0m \u001b[0mjnp\u001b[0m\u001b[0;34m.\u001b[0m\u001b[0mlinspace\u001b[0m\u001b[0;34m(\u001b[0m\u001b[0;36m0\u001b[0m\u001b[0;34m,\u001b[0m \u001b[0;36m1\u001b[0m\u001b[0;34m,\u001b[0m \u001b[0mnum\u001b[0m\u001b[0;34m=\u001b[0m\u001b[0;36m10\u001b[0m\u001b[0;34m)\u001b[0m\u001b[0;34m\u001b[0m\u001b[0;34m\u001b[0m\u001b[0m\n\u001b[0m\u001b[1;32m      2\u001b[0m \u001b[0mweights\u001b[0m\u001b[0;34m,\u001b[0m \u001b[0mindices\u001b[0m \u001b[0;34m=\u001b[0m \u001b[0mpnfindiff\u001b[0m\u001b[0;34m.\u001b[0m\u001b[0mcoefficients\u001b[0m\u001b[0;34m.\u001b[0m\u001b[0mderivative\u001b[0m\u001b[0;34m(\u001b[0m\u001b[0mxs\u001b[0m\u001b[0;34m=\u001b[0m\u001b[0mxs\u001b[0m\u001b[0;34m)\u001b[0m\u001b[0;34m\u001b[0m\u001b[0;34m\u001b[0m\u001b[0m\n\u001b[1;32m      3\u001b[0m \u001b[0;34m\u001b[0m\u001b[0m\n\u001b[1;32m      4\u001b[0m \u001b[0;34m\u001b[0m\u001b[0m\n\u001b[1;32m      5\u001b[0m \u001b[0mfx\u001b[0m \u001b[0;34m=\u001b[0m \u001b[0mjnp\u001b[0m\u001b[0;34m.\u001b[0m\u001b[0msin\u001b[0m\u001b[0;34m(\u001b[0m\u001b[0mxs\u001b[0m\u001b[0;34m)\u001b[0m\u001b[0;34m\u001b[0m\u001b[0;34m\u001b[0m\u001b[0m\n",
      "\u001b[0;31mNameError\u001b[0m: name 'jnp' is not defined"
     ]
    }
   ],
   "source": [
    "xs = jnp.linspace(0, 1, num=10)\n",
    "weights, indices = pnfindiff.coefficients.derivative(xs=xs)\n",
    "\n",
    "\n",
    "fx = jnp.sin(xs)\n",
    "dfx_true = jnp.cos(xs)\n",
    "dfx_approx, _ = pnfindiff.coefficients.apply(fx, coeffs=weights, indices=indices)\n",
    "\n",
    "plt.plot(xs, fx, \"x-\", label=\"$f(x)$\")\n",
    "plt.plot(xs, dfx_true + 0.01, \"-\", label=\"$df(x)$ (true)\")  # small jitter for visibility\n",
    "plt.plot(xs, dfx_approx, \"o-\", label=\"$df(x)$ (approx)\")\n",
    "plt.legend()\n",
    "plt.xlabel(\"Input x\")\n",
    "plt.ylabel(\"Outputs f(x), df(x)\")\n",
    "plt.show()"
   ]
  },
  {
   "cell_type": "markdown",
   "id": "6dfeef2c",
   "metadata": {},
   "source": [
    "## Higher-order derivatives\n",
    "The scheme can be configured freely. For example, we can choose higher order derivatives, larger stencils, and, evaluate $f$ at a larger grid."
   ]
  },
  {
   "cell_type": "code",
   "execution_count": null,
   "id": "f5011767",
   "metadata": {},
   "outputs": [],
   "source": [
    "fd_scheme = pnfindiff.findiff(xs=xs, deriv=2, num=4)\n",
    "d2fx_true = -jnp.sin(xs)\n",
    "d2fx_approx, _ = fd_scheme(fx)\n",
    "\n",
    "plt.plot(xs, fx, \"x-\", label=\"$f(x)$\")\n",
    "plt.plot(\n",
    "    xs, d2fx_true + 0.01, \"-\", label=r\"$d^2f(x)$ (true)\"\n",
    ")  # small jitter for visibility\n",
    "plt.plot(xs, d2fx_approx, \"o-\", label=r\"$d^2f(x)$ (approx)\")\n",
    "plt.legend()\n",
    "plt.xlabel(\"Input x\")\n",
    "plt.ylabel(\"Outputs f(x), d^2f(x)\")\n",
    "plt.show()"
   ]
  },
  {
   "cell_type": "markdown",
   "id": "9d54b0d9",
   "metadata": {},
   "source": [
    "## Partial derivatives\n",
    "\n",
    "There are two ways of computing partial derivatives.\n",
    "\n",
    "### Outer products\n",
    "\n",
    "The most straightforward way of computing partial derivatives would be to apply finite difference formulas to specific axes of the input.\n"
   ]
  },
  {
   "cell_type": "code",
   "execution_count": null,
   "id": "ae3f5041",
   "metadata": {},
   "outputs": [],
   "source": [
    "x = jnp.linspace(1, 1.1, 11)\n",
    "y = jnp.linspace(1, 1.1, 11)\n",
    "\n",
    "f = jnp.sin(x)[:, None] * jnp.sin(y)[None, :]  # Meshgrid-like\n",
    "df_dy_true = jnp.sin(x)[:, None] * jnp.cos(y)[None, :]\n",
    "\n",
    "fd = pnfindiff.findiff_along_axis(axis=1, xs=x, deriv=1, num=3)\n",
    "df_dy_approx, _ = fd(f)\n",
    "\n",
    "X, Y = jnp.meshgrid(x, y)\n",
    "\n",
    "fig, ax = plt.subplots(ncols=2, sharex=True, sharey=True)\n",
    "ax[0].set_title(\"$Y$-derivative (true)\")\n",
    "ax[0].contourf(X, Y, df_dy_true, vmin=0.4, vmax=0.5)\n",
    "\n",
    "ax[1].set_title(\"$Y$-derivative (approx)\")\n",
    "ax[1].contourf(X, Y, df_dy_approx, vmin=0.4, vmax=0.5)\n",
    "\n",
    "for a in ax:\n",
    "    a.set_xticks((x[0], x[5], x[10]))\n",
    "    a.set_yticks((y[0], y[5], y[10]))\n",
    "    a.set_xlabel(\"X-coordinate\")\n",
    "ax[0].set_ylabel(\"Y-coordinate\")\n",
    "plt.show()"
   ]
  },
  {
   "cell_type": "markdown",
   "id": "8c477980",
   "metadata": {},
   "source": [
    "The above approach is simple yet powerful, but there are caveats.\n",
    "One such caveat is that it implicitly assumes that the function $f$ is of the form \n",
    "$$\n",
    "f(x, y) = f_1(x) f_y(y)\n",
    "$$\n",
    "which is not always the truth.\n",
    "For functions that do not have such a product structure, one can do differently.\n",
    "\n",
    "### Function-space approach\n",
    "\n",
    "TBD\n"
   ]
  },
  {
   "cell_type": "code",
   "execution_count": null,
   "id": "ce2a2341",
   "metadata": {},
   "outputs": [],
   "source": []
  },
  {
   "cell_type": "code",
   "execution_count": null,
   "id": "0b0b6f3e",
   "metadata": {},
   "outputs": [],
   "source": []
  },
  {
   "cell_type": "code",
   "execution_count": null,
   "id": "9e205a6f",
   "metadata": {},
   "outputs": [],
   "source": []
  }
 ],
 "metadata": {
  "kernelspec": {
   "display_name": "Python 3 (ipykernel)",
   "language": "python",
   "name": "python3"
  },
  "language_info": {
   "codemirror_mode": {
    "name": "ipython",
    "version": 3
   },
   "file_extension": ".py",
   "mimetype": "text/x-python",
   "name": "python",
   "nbconvert_exporter": "python",
   "pygments_lexer": "ipython3",
   "version": "3.8.10"
  }
 },
 "nbformat": 4,
 "nbformat_minor": 5
}
